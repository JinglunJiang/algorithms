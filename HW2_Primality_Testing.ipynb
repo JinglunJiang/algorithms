{
  "cells": [
    {
      "cell_type": "markdown",
      "metadata": {
        "colab_type": "text",
        "id": "view-in-github"
      },
      "source": [
        "<a href=\"https://colab.research.google.com/github/JinglunJiang/algorithms/blob/main/HW2_Primality_Testing.ipynb\" target=\"_parent\"><img src=\"https://colab.research.google.com/assets/colab-badge.svg\" alt=\"Open In Colab\"/></a>"
      ]
    },
    {
      "cell_type": "markdown",
      "metadata": {
        "id": "Mz-vGZ6VZ7YN"
      },
      "source": [
        "# Important: Use File -> Save a Copy in Drive to create a copy of this document. Edit *your copy* of the file. If you attempt to edit this file, your changes will not be saved."
      ]
    },
    {
      "cell_type": "markdown",
      "metadata": {
        "id": "frtSFvBKQDrV"
      },
      "source": [
        "# Primality Testing\n",
        "\n",
        "In this notebook you will test different primality testing algorithms in terms of their success and running time. First you should use Eratosthenes' sieve to acquire all primes under 10,000."
      ]
    },
    {
      "cell_type": "code",
      "execution_count": 10,
      "metadata": {
        "id": "hqtMQerDQDrZ"
      },
      "outputs": [],
      "source": [
        "# Imports\n",
        "import math\n",
        "import random\n",
        "from datetime import datetime\n",
        "import numpy as np\n",
        "\n",
        "N = 10000"
      ]
    },
    {
      "cell_type": "code",
      "execution_count": 11,
      "metadata": {
        "id": "ILb4H15eQDrb"
      },
      "outputs": [
        {
          "name": "stdout",
          "output_type": "stream",
          "text": [
            "1229\n"
          ]
        }
      ],
      "source": [
        "def sieve(n: int):\n",
        "    is_prime = np.ones(n + 1, dtype=bool)\n",
        "    # TODO: Set is_prime[0] and is_prime[1] to False\n",
        "    # Then iterate over all elements and if it is True (meaning a prime)\n",
        "    # mark all its multiples as False\n",
        "    is_prime[0:2] = False\n",
        "    primes = []\n",
        "    for num in range(2, int(n**0.5) + 1):\n",
        "        if is_prime[num]:\n",
        "            primes.append(num)\n",
        "            is_prime[num * 2:n + 1:num] = False\n",
        "    for num in range(int(n**0.5) + 1, n + 1):\n",
        "        if is_prime[num]:\n",
        "            primes.append(num)\n",
        "    return set(primes)\n",
        "\n",
        "primes = sieve(N)\n",
        "print(len(primes))"
      ]
    },
    {
      "cell_type": "markdown",
      "metadata": {
        "id": "8sWFWoOkQDrc"
      },
      "source": [
        "Write the Fermat primality test"
      ]
    },
    {
      "cell_type": "code",
      "execution_count": 12,
      "metadata": {
        "id": "Hu1wyoQqQDrc"
      },
      "outputs": [],
      "source": [
        "def fermat_is_prime(p: int, base=None):\n",
        "    if p == 2: return True\n",
        "    if base is None:\n",
        "        while True:\n",
        "            base = random.randint(2, p)\n",
        "            if math.gcd(p, base) == 1:\n",
        "                break\n",
        "    # TODO: Compute (base)^(p-1) % p. Consider using the `pow` built-in function.\n",
        "    # If the result is 1, return True\n",
        "    # Otherwise, return False\n",
        "    # Make sure that you don't use numbers significantly bigger than `p`\n",
        "    if pow(base, p - 1, p) == 1:\n",
        "        return True\n",
        "    return False"
      ]
    },
    {
      "cell_type": "markdown",
      "metadata": {
        "id": "quRXhOmfQDrd"
      },
      "source": [
        "Using a single or even a random base might not always work: $2^{340} \\equiv 1\\ (mod\\ 341)$, but $341 = 11 \\cdot 31$ is composite. These numbers are called *pseudoprimes*. There is a proof that for every composite number where the algorithm succeeds for at least one base, it will succeed for at least half of the bases. Write the repeated fermat primality test that answers the primality question correctly with probability $1 - \\delta$. In order to achieve that, you will call `fermat_is_prime` iteratively until the failure probability is less than $\\delta$."
      ]
    },
    {
      "cell_type": "code",
      "execution_count": 13,
      "metadata": {
        "id": "q-PjI9pXQDrd"
      },
      "outputs": [],
      "source": [
        "def boosted_fermat(p: int, delta=1e-6):\n",
        "    trust = 1\n",
        "    while trust > delta:\n",
        "        # TODO: Use the fermat primality testing multiple times to avoid pseudoprimes\n",
        "        if not fermat_is_prime(p):\n",
        "            return False\n",
        "        trust = trust / 2\n",
        "    return True"
      ]
    },
    {
      "cell_type": "markdown",
      "metadata": {
        "id": "l92NtpH9QDre"
      },
      "source": [
        "There exist certain numbers that have **no** (non coprime) bases for which the fermat test works. Those are called [Carmichael numbers](https://en.wikipedia.org/wiki/Carmichael_number). Use your primality testing with $\\delta = 10^{-6}$ to print all Carmichael numbers."
      ]
    },
    {
      "cell_type": "code",
      "execution_count": 14,
      "metadata": {
        "id": "0KFHw26lQDre"
      },
      "outputs": [
        {
          "name": "stdout",
          "output_type": "stream",
          "text": [
            "561\n",
            "1105\n",
            "1729\n",
            "2465\n",
            "2821\n",
            "6601\n",
            "8911\n"
          ]
        }
      ],
      "source": [
        "for p in range(2, N+1):\n",
        "    # TODO: Find all the Carmichael numbers\n",
        "    if boosted_fermat(p) and p not in primes:\n",
        "        print(p)"
      ]
    },
    {
      "cell_type": "markdown",
      "metadata": {
        "id": "LIDy9_yqhV2t"
      },
      "source": [
        "## Generating Primes for cryptographic use\n",
        "\n",
        "In the [public key](https://en.wikipedia.org/wiki/Public-key_cryptography) cryptosystem [RSA](https://en.wikipedia.org/wiki/RSA_(cryptosystem)), creating a new key requires finding large primes up to thousands of bits long. The way to produce such a number is quite simple:\n",
        "\n",
        "1. Produce a large integer\n",
        "2. Check if it is prime\n",
        "3. Repeat until success\n",
        "\n",
        "It is known that the number of primes grows in a rate of $\\Omega(1 / \\log n)$, so generating a prime will take on average tries proporional to the bit length."
      ]
    },
    {
      "cell_type": "code",
      "execution_count": 15,
      "metadata": {
        "id": "kuKUqeRkhWg4"
      },
      "outputs": [
        {
          "name": "stdout",
          "output_type": "stream",
          "text": [
            "Attempting try  4780. Elapsed time:   179.07s\n",
            "After 4786 tries completed in 180.04 seconds, generated the following prime\n",
            "26080500245834170477225795732063948092953327470999857303087469533102094780651144360943689463357639944829960453114076975361887876654254581658616389430987417765066382736148386387230208935569238266317236126786371990069718927861851953777676904728999429385362947879690748128562689292470722080412286690532357597502270634666102938457141927309674032493907146554441814681875879290306078227900686793527486309393701235752094542443262322119402824091254788219905178878779378527294170736393411990736782046084874575947237015007473783368666579669216873256579487990353956234176885090679697195993688793517839440478680846262959225300999\n"
          ]
        }
      ],
      "source": [
        "def generate_prime(bits, verbose = False):\n",
        "    start = datetime.now()\n",
        "\n",
        "    i = 0\n",
        "    while True:\n",
        "        i += 1\n",
        "        if verbose and i % 10 == 0:\n",
        "            print(f'\\rAttempting try {i:5d}. Elapsed time: {(datetime.now() - start).total_seconds():8.2f}s', end='')\n",
        "        # TODO: Generate a number in [ 2**(bits-1), 2**(bits) )\n",
        "        p = random.randint(2**(bits-1), 2**(bits) - 1)\n",
        "        if boosted_fermat(p):   # TODO: Check if it is prime using the boosted fermat test you\n",
        "            if verbose:\n",
        "                print()  # Prevent the next line from overwriting the previous (see \\r carriage return)\n",
        "            return p, i\n",
        "\n",
        "start = datetime.now()\n",
        "p, i = generate_prime(2048, verbose = True)\n",
        "print(f'After {i} tries completed in {(datetime.now() - start).total_seconds():.2f} seconds, generated the following prime\\n{p}')\n",
        "\n",
        "# 2048 is one of the recommended prime sizes in RSA. This cell may take a minute or two.\n",
        "# Feel free to test at lower numbers."
      ]
    },
    {
      "cell_type": "markdown",
      "metadata": {
        "id": "Pp2WOBL3cz9P"
      },
      "source": [
        "# Prime density\n",
        "\n",
        "The probability of a random number we sample being prime is $\\Omega(1/\\log n)$, meaning that on average we need to produce $O(\\log n)$ numbers. That number is the same as the bits needed to represent the number itself. Additionally, checking if a number is prime also takes $O(\\log n)$ multiplications, which take $O(\\log^{1.58} n)$ each due to Karatsuba's algorithm, which python uses for large numbers. As a result, finding a prime will take will take $O(\\log^{3.58} n)$ time on average.\n",
        "\n",
        "You can check that yourself by generating primes of different bit lengths. Note that this cell could take ~5 minutes to run."
      ]
    },
    {
      "cell_type": "code",
      "execution_count": 16,
      "metadata": {
        "id": "-ujyhqMMdUcq"
      },
      "outputs": [
        {
          "name": "stdout",
          "output_type": "stream",
          "text": [
            "Producing 25   64-bit length primes...\n",
            "Producing 25  128-bit length primes...\n",
            "Producing 25  192-bit length primes...\n",
            "Producing 25  256-bit length primes...\n",
            "Producing 25  320-bit length primes...\n",
            "Producing 25  384-bit length primes...\n",
            "Producing 25  448-bit length primes...\n",
            "Producing 25  512-bit length primes...\n",
            "Producing 25  576-bit length primes...\n",
            "Producing 25  640-bit length primes...\n",
            "Producing 25  704-bit length primes...\n",
            "Producing 25  768-bit length primes...\n",
            "Producing 25  832-bit length primes...\n",
            "Producing 25  896-bit length primes...\n",
            "Producing 25  960-bit length primes...\n",
            "Producing 25 1024-bit length primes...\n"
          ]
        },
        {
          "data": {
            "image/png": "[encoded data removed]",
            "text/plain": [
              "<Figure size 432x288 with 2 Axes>"
            ]
          },
          "metadata": {
            "needs_background": "light"
          },
          "output_type": "display_data"
        },
        {
          "name": "stdout",
          "output_type": "stream",
          "text": [
            "Total time: 421.83s\n"
          ]
        }
      ],
      "source": [
        "import matplotlib.pyplot as plt\n",
        "T = 25\n",
        "\n",
        "bit_lengths = list(range(64, 1025, 64))\n",
        "tries = np.zeros([len(bit_lengths), T])\n",
        "times = np.zeros([len(bit_lengths), T])\n",
        "\n",
        "start = datetime.now()\n",
        "# TODO: Iterate through the different bit lengths and create `T` primes.\n",
        "#       For each one, record in `tries[b, t]` the number of tries it took\n",
        "#       and in `times[b, t]` the amount of time it takes.\n",
        "for b, bit_length in enumerate(bit_lengths):\n",
        "    for t in range(T):\n",
        "        start_time = datetime.now()\n",
        "        _, num_tries = generate_prime(bit_length)\n",
        "        end_time = datetime.now()\n",
        "\n",
        "        tries[b, t] = num_tries\n",
        "        times[b, t] = (end_time - start_time).total_seconds()\n",
        "\n",
        "    print(f'Producing {T} {bit_length:4d}-bit length primes...')\n",
        "\n",
        "tries_mean = tries.mean(axis=1)\n",
        "tries_std = tries.std(axis=1)\n",
        "times_mean = times.mean(axis=1)\n",
        "times_std = times.std(axis=1)\n",
        "\n",
        "fig, (ax1, ax2) = plt.subplots(2, 1, sharex=True)\n",
        "ax1.plot(bit_lengths, tries_mean, 'b-', label='# tries')\n",
        "ax1.fill_between(bit_lengths, tries_mean - tries_std, tries_mean + tries_std, color='b', alpha=0.2)\n",
        "ax1.set_ylabel('# tries')\n",
        "\n",
        "ax2.plot(bit_lengths, times_mean, 'r-', label='Time (s)')\n",
        "ax2.fill_between(bit_lengths, times_mean - times_std, times_mean + times_std, color='r', alpha=0.2)\n",
        "ax2.set_ylabel('Time needed (s)')\n",
        "ax2.set_xlabel('bit length')\n",
        "plt.show()\n",
        "print(f'Total time: {(datetime.now() - start).total_seconds():6.2f}s')"
      ]
    },
    {
      "cell_type": "markdown",
      "metadata": {
        "id": "KNEJYxxW8cBg"
      },
      "source": [
        "## Implementing RSA\n",
        "\n",
        "In this section you will implement the RSA cryptosystem as a Python class using the code you have already written. You may want to refer to https://en.wikipedia.org/wiki/RSA_(cryptosystem)#Operation"
      ]
    },
    {
      "cell_type": "code",
      "execution_count": 17,
      "metadata": {
        "id": "XfVu402j9BhE"
      },
      "outputs": [
        {
          "name": "stdout",
          "output_type": "stream",
          "text": [
            "message:\n",
            "    b'RSA (Rivest-Shamir-Adleman) is a public-key cryptosystem, one of the oldest widely used for secure data transmission.'\n",
            "ciphertext:\n",
            "    b\"\\x17]&q\\xd5\\x8da=\\x9a\\x88`\\xbb\\x9c~\\xefA\\x15\\x93\\xee\\x05o\\xd3\\x99H\\xedG\\xe4F\\xa1\\\\\\xca \\x82d\\xb1\\xcf\\xca\\xc3-\\xbf\\xdc\\xaf\\x04\\xd5\\xf6ik\\xbb\\x92\\xd0\\xf9\\xe1\\x1a2\\xa8\\x8fO\\x9f\\xf6f\\x90\\x9a\\xcc+\\xf1\\x85\\xd3n\\x01\\xd1[u\\xa5H\\xec\\xad:5K\\xf1j\\xc6W\\xc9JK\\xcb\\xff\\x98\\x19\\x16\\xa4\\xe9Z\\x86v\\x8c\\xafv\\x12\\x0f\\xa3\\xcco\\x93\\xed^\\x89\\xaa,`fs\\xccL<\\x86-s\\x99\\x07\\x86\\x0f?\\x85\\t)\\x17\\x1f\\xea\\xa6\\xf9\\xf5\\xae\\xe5\\x16y]\\xf0\\x01J\\x04\\xe8(\\xb6\\xfa\\x85l\\xec\\xb3\\x9cdX\\x8b\\x82\\x91\\xe10\\x8cC\\xa2\\xd8\\xab8\\x99\\x07>\\x17\\xde\\x83\\xc0\\x92\\xf2T\\n\\x93\\\\R5I\\xcf\\xec]:\\xec\\x877,\\n\\x12\\xa8LB\\x8ebv-\\xfcwM\\xcd8\\x83\\x19\\xf1p}C\\xd7\\xb9\\x96\\xe94\\x05\\xcb\\xaa\\xdc\\xd1\\xd0\\xdf\\x17\\x0f\\xfc.\\xeb'f-\\x01\\xca\\xa0\\x1b\\xe1\\xe0\\x965\\x04\\x87\\x01\\x00\\x00\\x00\\x00\\x00\\x00\\x00\\x00\\x00\\x00\\x00\\x00\\x00\\x00\\x00\\x00\\x00\"\n",
            "decrypted message:\n",
            "    b'RSA (Rivest-Shamir-Adleman) is a public-key cryptosystem, one of the oldest widely used for secure data transmission.\\x00\\x00\\x00\\x00\\x00\\x00\\x00\\x00\\x00\\x00\\x00'\n"
          ]
        }
      ],
      "source": [
        "from math import gcd\n",
        "from typing import Tuple\n",
        "\n",
        "class RSA():\n",
        "    \"\"\"RSA implementation\n",
        "\n",
        "    \"\"\"\n",
        "    def __init__(self, key_length: int) -> None:\n",
        "        \"\"\"Initialiation function\n",
        "\n",
        "        Parameters\n",
        "        ----------\n",
        "        key_length : int\n",
        "            Length of primes used to create an RSA key in bits.\n",
        "\n",
        "        Returns:\n",
        "        --------\n",
        "        \"\"\"\n",
        "        self.key_length = key_length\n",
        "        self._n = None\n",
        "        self._e = None\n",
        "        self._d = None\n",
        "\n",
        "    def create_key(self) -> None:\n",
        "        \"\"\"Create key\n",
        "\n",
        "        Creates new key by finding two primes of bit length `self.key_length`.\n",
        "        n is defined as n = p * q.\n",
        "        lambda(n) = lcm(p - 1, q - 1) = (p-1) * (q-1) / (gcd(p-1, q-1))\n",
        "        Choose self._e to be a power of 2 incremented by 1.\n",
        "        self._e must be less than lambda and coprime.\n",
        "        Finally, self._d is the modular inverse of self._e with respect to lambda.\n",
        "        - hint: use `pow()` with its 3rd argument to find the inverse.\n",
        "\n",
        "        Parameters\n",
        "        ----------\n",
        "\n",
        "        Returns\n",
        "        -------\n",
        "\n",
        "        Raises\n",
        "        ------\n",
        "        ValueError\n",
        "            If any part of the key is already set.\n",
        "        \"\"\"\n",
        "        if (self._e is not None) or (self._d is not None) or (self._n is not None):\n",
        "            ValueError('Parts of the key already set. Create a new instance.')\n",
        "        # TODO: Fill in the function.\n",
        "        p = generate_prime(self.key_length)[0]\n",
        "        q = generate_prime(self.key_length)[0]\n",
        "        self._n = p * q\n",
        "        lambda_n = (p-1) * (q-1) // (gcd(p-1, q-1))\n",
        "        i = 1\n",
        "        while True:\n",
        "            e = pow(2, i) + 1\n",
        "            if math.gcd(e, lambda_n) == 1 and e < lambda_n:\n",
        "                self._e = e\n",
        "                break\n",
        "            i += 1\n",
        "        self._d = pow(self._e, -1, lambda_n)\n",
        "\n",
        "    def set_public_key(self, e: int, n: int) -> None:\n",
        "        \"\"\"Set Public Key\n",
        "\n",
        "        Sets the public key for encrypting with other people's public keys.\n",
        "\n",
        "        Parameters\n",
        "        ----------\n",
        "        e : int\n",
        "            Exponent used to encrypt messages.\n",
        "        n : int\n",
        "            Modulo used for encryption and decryption.\n",
        "\n",
        "        Returns\n",
        "        -------\n",
        "\n",
        "        Raises\n",
        "        ------\n",
        "        ValueError\n",
        "            If the public key is already set.\n",
        "        \"\"\"\n",
        "        if (self._e is not None) or (self._n is not None):\n",
        "            raise ValueError('Private key is already set. Create a new instance.')\n",
        "        self._e = e\n",
        "        self._n = n\n",
        "\n",
        "    def set_private_key(self, d: int, n: int) -> None:\n",
        "        \"\"\"Set Public Key\n",
        "\n",
        "        Sets the public key for encrypting with other people's public keys.\n",
        "\n",
        "        Parameters\n",
        "        ----------\n",
        "        d : int\n",
        "            Exponent used to decrypt messages.\n",
        "        n : int\n",
        "            Modulo used for encryption and decryption.\n",
        "\n",
        "        Returns\n",
        "        -------\n",
        "\n",
        "        Raises\n",
        "        ------\n",
        "        ValueError\n",
        "            If the public key is already set.\n",
        "        \"\"\"\n",
        "        if (self._d is not None) or (self._n is not None):\n",
        "            raise ValueError('Private key is already set. Create a new instance.')\n",
        "        self._d = d\n",
        "        self._n = n\n",
        "\n",
        "    def get_public_key(self) -> Tuple[int, int]:\n",
        "        \"\"\"Get Public Key\n",
        "\n",
        "        Returns the public key (e, n)\n",
        "\n",
        "        Parameters\n",
        "        ----------\n",
        "\n",
        "        Returns\n",
        "        -------\n",
        "        e : int\n",
        "            Exponent used to encrypt messages.\n",
        "        n : int\n",
        "            Modulo used for encryption and decryption.\n",
        "\n",
        "        Raises\n",
        "        ------\n",
        "        ValueError\n",
        "            If there is no public key set, raises an error\n",
        "        \"\"\"\n",
        "        if (self._e is None) or (self._n is None):\n",
        "            raise ValueError('No public key set.')\n",
        "        return self._e, self._n\n",
        "\n",
        "    def encrypt(self, message: int) -> int:\n",
        "        \"\"\"Encrypt\n",
        "\n",
        "        Given an integer less than `self._n` it returns its RSA encryption.\n",
        "\n",
        "        Parameters\n",
        "        ----------\n",
        "        message : int\n",
        "            Message to be encrypted.\n",
        "\n",
        "        Returns\n",
        "        -------\n",
        "        encrypted_message : int\n",
        "            Encrypted message.\n",
        "\n",
        "        Raises\n",
        "        ------\n",
        "        ValueError\n",
        "            If the public key is not set.\n",
        "        \"\"\"\n",
        "        if (self._e is None) or (self._n is None):\n",
        "            raise ValueError('No public key set.')\n",
        "        # TODO: Use the private key to encrypt the message.\n",
        "        encrypted_message = pow(message, self._e, self._n)\n",
        "        return encrypted_message\n",
        "\n",
        "    def decrypt(self, encrypted_message: int) -> int:\n",
        "        \"\"\"Decrypt\n",
        "\n",
        "        Given an encrypted messsages, recovers the original message\n",
        "\n",
        "        Parameters\n",
        "        ----------\n",
        "        encrypted_message : int\n",
        "            Message to be decrypted.\n",
        "\n",
        "        Returns\n",
        "        -------\n",
        "        message : int\n",
        "            Decrypted message\n",
        "\n",
        "        Raises\n",
        "        ------\n",
        "        ValueError\n",
        "            If the private key is not set.\n",
        "        \"\"\"\n",
        "        if (self._d is None) or (self._n is None):\n",
        "            raise ValueError('No private key set.')\n",
        "        # TODO: Use the private key to decrypt the encrypted message\n",
        "        message = pow(encrypted_message, self._d, self._n)\n",
        "        return message\n",
        "\n",
        "    def encrypt_bytes(self, message: bytes) -> bytes:\n",
        "        \"\"\"Encrypt bytes\n",
        "\n",
        "        Given a sequence of bytes, breaks it up into groups,\n",
        "        encrypts each group and returns the result as bytes.\n",
        "\n",
        "        Parameters\n",
        "        ----------\n",
        "        message : bytes\n",
        "            Text to be encrypted.\n",
        "\n",
        "        Returns\n",
        "        -------\n",
        "        encrypted_message : bytes\n",
        "            The encrypted  bytes concatenated.\n",
        "\n",
        "        Raises\n",
        "        ------\n",
        "        ValueError\n",
        "            If the public key is not set\n",
        "        \"\"\"\n",
        "        if (self._e is None) or (self._n is None):\n",
        "            raise ValueError('No public key set.')\n",
        "        # TODO: Break up the message into groups such that they fit in `key_length`.\n",
        "        #       If the message is not an integer multiple of `key_length`, append the zero byte at the end.\n",
        "        #       Remember that a byte is 8 bits.\n",
        "        #       Turn each group into an integer, encrypt it and turn it back into bytes of size `2 * key_length`.\n",
        "        #       Concatenate all bytes together in a bytearray and return it as bytes.\n",
        "        #       Use little endian.\n",
        "\n",
        "        # Consider using the `int.from_bytes()` and `int.to_bytes()` functions for conversions. They are more powerful than they\n",
        "        # look, so check out the documentation.\n",
        "        encrypted_bytes = bytearray(b'')\n",
        "        byte_length = self.key_length // 8\n",
        "        for i in range(0, len(message), byte_length):\n",
        "            block = message[i:i + byte_length]\n",
        "            block_int = int.from_bytes(block, byteorder='little')\n",
        "            encrypted_block = pow(block_int, self._e, self._n)\n",
        "            encrypted_bytes.extend(encrypted_block.to_bytes(2 * byte_length, byteorder='little'))\n",
        "\n",
        "        return bytes(encrypted_bytes)\n",
        "\n",
        "    def decrypt_bytes(self, encrypted_message: bytes) -> bytes:\n",
        "        \"\"\"Decrypt bytes\n",
        "\n",
        "        Given a sequence of bytes, breaks it up into groups,\n",
        "        decrypts each group and returns the result as bytes.\n",
        "\n",
        "        Parameters\n",
        "        ----------\n",
        "        encrypted_message : bytes\n",
        "            Text to be decrypted.\n",
        "\n",
        "        Returns\n",
        "        -------\n",
        "        message : bytes\n",
        "            The decrypted  bytes concatenated.\n",
        "\n",
        "        Raises\n",
        "        ------\n",
        "        ValueError\n",
        "            If the private key is not set\n",
        "        \"\"\"\n",
        "        if (self._d is None) or (self._n is None):\n",
        "            raise ValueError('No private key set.')\n",
        "        # TODO: Break up the encrypted_message into groups such that they fit in `2 * key_length`.\n",
        "        #       Turn each group into an integer, decrypt it and turn it back into bytes of `key_length`.\n",
        "        #       Concatenate all bytes together.\n",
        "        #       Use little endian.\n",
        "\n",
        "        # Consider using the `int.from_bytes()` and `int.to_bytes()` functions for conversions. They are more powerful than they\n",
        "        # look, so check out the documentation.\n",
        "        message = bytearray(b'')\n",
        "        byte_length = self.key_length // 8\n",
        "        block_length = byte_length * 2\n",
        "        for i in range(0, len(encrypted_message), block_length):\n",
        "            block = encrypted_message[i:i + block_length]\n",
        "            block_int = int.from_bytes(block, byteorder='little')\n",
        "            decrypted_block = pow(block_int, self._d, self._n)\n",
        "            message.extend(decrypted_block.to_bytes(byte_length, byteorder='little'))\n",
        "        return bytes(message)\n",
        "\n",
        "\n",
        "cipher = RSA(128)\n",
        "cipher.create_key()\n",
        "\n",
        "# Test key generation.\n",
        "for i in range(10):\n",
        "    a = random.randint(2, int(math.sqrt(cipher._n)))\n",
        "    new_a = pow(pow(a, cipher._e, cipher._n), cipher._d, cipher._n)\n",
        "    assert new_a == a, f\"Key generation malfunctions. m = {a} ((m^e)^d) % n = {new_a}\"\n",
        "\n",
        "# Test encryption and decryption of a single block\n",
        "for i in range(10):\n",
        "    a = random.randint(2, int(math.sqrt(cipher._n)))\n",
        "    encrypt_decrypt_a = cipher.decrypt(cipher.encrypt(a))\n",
        "    decrypt_encrypt_a = cipher.encrypt(cipher.decrypt(a))\n",
        "    assert encrypt_decrypt_a == a, \"Decryption of encrypted integer failed.\"\n",
        "    assert encrypt_decrypt_a == a, \"Reencryption of decrypted integer failed.\"\n",
        "\n",
        "# Test encryption and decryption of a larger bytestring\n",
        "msg = bytes(\"RSA (Rivest-Shamir-Adleman) is a public-key cryptosystem, one of the oldest widely used for secure data transmission.\", encoding='utf-8')\n",
        "print(f'message:\\n    {msg}')\n",
        "ctxt = cipher.encrypt_bytes(msg)\n",
        "print(f'ciphertext:\\n    {ctxt}')\n",
        "msg_decrypted = cipher.decrypt_bytes(ctxt)\n",
        "print(f'decrypted message:\\n    {msg_decrypted}')  # There may be additional 0 bytes at the end (written \\x00). This is fine.\n",
        "assert(msg == msg_decrypted[:len(msg)])"
      ]
    },
    {
      "cell_type": "markdown",
      "metadata": {
        "id": "eaYZmhg0MWRD"
      },
      "source": [
        "## Decrypting your own cryptogram\n",
        "\n",
        "For each one of you we have created a cryptogram. Your cryptogram, your private key (the number `d`), and your public key (`e` and `n`) have been sent to you in an email. **Let us know on Slack if you cannot find this email.** Decrypt your assigned cryptogram and print it below."
      ]
    },
    {
      "cell_type": "code",
      "execution_count": 18,
      "metadata": {
        "id": "z1_dV_k0MXDO"
      },
      "outputs": [
        {
          "name": "stdout",
          "output_type": "stream",
          "text": [
            "So long, and thanks for all the fish.\u0000\u0000\u0000\u0000\u0000\u0000\u0000\u0000\u0000\u0000\u0000\n"
          ]
        }
      ],
      "source": [
        "import base64\n",
        "\n",
        "key_length = 128\n",
        "# TODO: Paste your cryprtogram, public key and student ID below\n",
        "b64_encrypted_message = \"AOGWi4NzmEevY9VNp294yC62LA3cUovEg5489QewbQeAiPv8ayPSSGziSf4Hu88OWdLxJMKMq4DOQPfnUXIVq0XkZJKUNyd/mF1J1dkjZE7BReqJuKSczWOKGlv+p7Gb\"\n",
        "n = 78591298842346353817823717406009583667053372946398721242840366228533006009907\n",
        "d = 30833314853318549984483866633257334636707564253190972202669093919817679227553\n",
        "# Note that e is not necessary for decrpytion.\n",
        "\n",
        "cipher = RSA(key_length)\n",
        "cipher.set_private_key(d, n)\n",
        "encrypted_message = base64.b64decode(b64_encrypted_message)\n",
        "\n",
        "message = cipher.decrypt_bytes(encrypted_message)\n",
        "print(message.decode())"
      ]
    },
    {
      "cell_type": "markdown",
      "metadata": {
        "id": "WiNFmX-jK1nC"
      },
      "source": [
        "### Food for thought (you do **not** need to answer these questions)\n",
        "- Originally, we wanted your private key in the above cell to be your student id. This didn't really work, since some of the ids were even, and we could not choose a public key corresponding to an even private key. Do you see why?\n",
        "- It is often advised that programmers never implement their own cryptography functions, since it is very easy to make a mistake and write an insecure algorithm. Even if you implemented the code above perfectly, there is still an issue with our design, which lets an adversary learn some information about the message corresponding to some cryptogram, even if they cannot fully decrypt it. Can you spot this issue?\n",
        "  - If you are interested, you can read more about this issue [here](https://words.filippo.io/the-ecb-penguin/) .\n",
        "- Another potential issue with the algorithm involves the choice of primes. Your\n",
        "  code (likely) uses pythons standard random number generation functions. These functions are deterministic, and based on a seed, which is usually the system time when the first random call is made. How might an attacker use this to break the security of RSA. How might we strengthen the system against such attacks?\n"
      ]
    }
  ],
  "metadata": {
    "colab": {
      "include_colab_link": true,
      "provenance": []
    },
    "kernelspec": {
      "display_name": "Python 3",
      "language": "python",
      "name": "python3"
    },
    "language_info": {
      "codemirror_mode": {
        "name": "ipython",
        "version": 3
      },
      "file_extension": ".py",
      "mimetype": "text/x-python",
      "name": "python",
      "nbconvert_exporter": "python",
      "pygments_lexer": "ipython3",
      "version": "3.8.10"
    }
  },
  "nbformat": 4,
  "nbformat_minor": 0
}
